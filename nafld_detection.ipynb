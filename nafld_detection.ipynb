{
 "cells": [
  {
   "cell_type": "code",
   "execution_count": null,
   "id": "1f3a40a2",
   "metadata": {
    "scrolled": true
   },
   "outputs": [
    {
     "name": "stderr",
     "output_type": "stream",
     "text": [
      "/Users/pranavmathur/anaconda3/lib/python3.11/site-packages/pandas/core/arrays/masked.py:60: UserWarning: Pandas requires version '1.3.6' or newer of 'bottleneck' (version '1.3.5' currently installed).\n",
      "  from pandas.core import (\n"
     ]
    }
   ],
   "source": [
    "import pandas as pd\n",
    "from sklearn.decomposition import PCA\n",
    "from sklearn.feature_selection import SelectFromModel\n",
    "from sklearn.ensemble import RandomForestClassifier\n",
    "from sklearn.model_selection import StratifiedKFold\n",
    "from sklearn.model_selection import cross_val_score\n",
    "from sklearn.preprocessing import StandardScaler\n",
    "import pandas as pd\n",
    "\n",
    "demo = pd.read_sas(\"P_DEMO.xpt\", format='xport')      # Demographics\n",
    "bmx = pd.read_sas(\"P_BMX.xpt\", format='xport')        # Body Measures (anthropometric)\n",
    "biopro = pd.read_sas(\"P_BIOPRO.xpt\", format='xport')  # Biochemistry (ALT, AST, etc.)\n",
    "cbc = pd.read_sas(\"P_CBC.xpt\", format='xport')        # Complete Blood Count (platelets)\n",
    "ghb = pd.read_sas(\"P_GHB.xpt\", format='xport')        # Glycohemoglobin (HbA1c)\n",
    "glu = pd.read_sas(\"P_GLU.xpt\", format='xport')        # Glucose\n",
    "hdl = pd.read_sas(\"P_HDL.xpt\", format='xport')        # HDL cholesterol\n",
    "trigly = pd.read_sas(\"P_TRIGLY.xpt\", format='xport')  # Triglycerides\n",
    "dib = pd.read_sas(\"P_DIQ.xpt\", format='xport')\n",
    "alc = pd.read_sas(\"P_ALQ.xpt\", format='xport')"
   ]
  },
  {
   "cell_type": "code",
   "execution_count": null,
   "id": "9921412d",
   "metadata": {},
   "outputs": [],
   "source": [
    "df = demo\n",
    "\n",
    "# Merging each additional dataframe on 'SEQN'\n",
    "df = df.merge(bmx, on='SEQN', how='left')\n",
    "df = df.merge(biopro, on='SEQN', how='left')\n",
    "df = df.merge(cbc, on='SEQN', how='left')\n",
    "df = df.merge(ghb, on='SEQN', how='left')\n",
    "df = df.merge(glu, on='SEQN', how='left')\n",
    "df = df.merge(hdl, on='SEQN', how='left')\n",
    "df = df.merge(trigly, on='SEQN', how='left')\n",
    "df = df.merge(dib, on='SEQN', how='left')\n",
    "df = df.merge(alc, on='SEQN', how='left')"
   ]
  },
  {
   "cell_type": "code",
   "execution_count": null,
   "id": "0b180479",
   "metadata": {},
   "outputs": [],
   "source": [
    "columns_needed = [\n",
    "    'SEQN', 'RIDAGEYR', 'RIAGENDR',       \n",
    "    'BMXBMI', 'BMXWAIST',                  \n",
    "    'LBXSATSI', 'LBXSASSI', 'LBXSGTSI',     \n",
    "    'LBXGH', 'BMXHIP',                      \n",
    "    'LBDHDD',                       \n",
    "    'LBXPLTSI', 'LBXSUA', 'LBXSTR',     \n",
    "    'LBXSGL', 'BMXHT'\n",
    "]\n",
    "df = df[columns_needed]"
   ]
  },
  {
   "cell_type": "code",
   "execution_count": 4,
   "id": "d3aaf609",
   "metadata": {},
   "outputs": [],
   "source": [
    "df = df.dropna(subset=columns_needed)"
   ]
  },
  {
   "cell_type": "code",
   "execution_count": 5,
   "id": "54a6a163",
   "metadata": {
    "scrolled": false
   },
   "outputs": [
    {
     "name": "stdout",
     "output_type": "stream",
     "text": [
      "SEQN        0.0\n",
      "RIDAGEYR    0.0\n",
      "RIAGENDR    0.0\n",
      "BMXBMI      0.0\n",
      "BMXWAIST    0.0\n",
      "LBXSATSI    0.0\n",
      "LBXSASSI    0.0\n",
      "LBXSGTSI    0.0\n",
      "LBXGH       0.0\n",
      "BMXHIP      0.0\n",
      "LBDHDD      0.0\n",
      "LBXPLTSI    0.0\n",
      "LBXSUA      0.0\n",
      "LBXSTR      0.0\n",
      "LBXSGL      0.0\n",
      "BMXHT       0.0\n",
      "dtype: float64\n"
     ]
    }
   ],
   "source": [
    "missing_percent = df.isnull().sum() / len(df) * 100\n",
    "print(missing_percent)"
   ]
  },
  {
   "cell_type": "code",
   "execution_count": 6,
   "id": "1be84cea",
   "metadata": {},
   "outputs": [],
   "source": [
    "lux = pd.read_sas(\"P_LUX.xpt\", format='xport')"
   ]
  },
  {
   "cell_type": "code",
   "execution_count": 7,
   "id": "e5d878c9",
   "metadata": {},
   "outputs": [],
   "source": [
    "lux = lux[lux['LUAXSTAT'] == 1]"
   ]
  },
  {
   "cell_type": "code",
   "execution_count": 8,
   "id": "ac668ab7",
   "metadata": {},
   "outputs": [],
   "source": [
    "lux = lux.dropna(subset=['LUXCAPM'])"
   ]
  },
  {
   "cell_type": "code",
   "execution_count": 9,
   "id": "c71b5a33",
   "metadata": {
    "scrolled": true
   },
   "outputs": [],
   "source": [
    "lux.loc[:, 'NAFLD'] = (lux['LUXCAPM'] >= 248).astype(int)"
   ]
  },
  {
   "cell_type": "code",
   "execution_count": null,
   "id": "ffff510c",
   "metadata": {},
   "outputs": [],
   "source": [
    "df = df.merge(lux[['SEQN', 'NAFLD']], on='SEQN', how='inner')"
   ]
  },
  {
   "cell_type": "code",
   "execution_count": 11,
   "id": "081e7470",
   "metadata": {},
   "outputs": [],
   "source": [
    "df['waist_hip_ratio'] = df['BMXWAIST'] / df['BMXHIP']\n",
    "df['waist_height_ratio'] = df['BMXWAIST'] / df['BMXHT']"
   ]
  },
  {
   "cell_type": "code",
   "execution_count": 12,
   "id": "15012048",
   "metadata": {},
   "outputs": [],
   "source": [
    "X = df.drop(columns=['SEQN', 'NAFLD'])\n",
    "y = df['NAFLD']"
   ]
  },
  {
   "cell_type": "code",
   "execution_count": null,
   "id": "9f82aeaa",
   "metadata": {},
   "outputs": [],
   "source": [
    "X = df.drop(columns=['SEQN', 'NAFLD'])\n",
    "y = df['NAFLD']\n",
    "\n",
    "# Normalizing features\n",
    "scaler = StandardScaler()\n",
    "X_normalized = scaler.fit_transform(X)\n",
    "\n",
    "# Converting back to DataFrame for easier handling\n",
    "X_normalized_df = pd.DataFrame(X_normalized, columns=X.columns)"
   ]
  },
  {
   "cell_type": "code",
   "execution_count": 14,
   "id": "87ebafa2",
   "metadata": {
    "scrolled": true
   },
   "outputs": [],
   "source": [
    "X = X_normalized_df"
   ]
  },
  {
   "cell_type": "code",
   "execution_count": null,
   "id": "a26d86bd",
   "metadata": {},
   "outputs": [
    {
     "name": "stderr",
     "output_type": "stream",
     "text": [
      "/Users/pranavmathur/anaconda3/lib/python3.11/site-packages/sklearn/base.py:432: UserWarning: X has feature names, but SelectFromModel was fitted without feature names\n",
      "  warnings.warn(\n"
     ]
    },
    {
     "name": "stdout",
     "output_type": "stream",
     "text": [
      "Feature Selection Accuracy: 0.771\n",
      "PCA Accuracy: 0.767\n"
     ]
    }
   ],
   "source": [
    "def compare_feature_methods(X, y):\n",
    "    # Feature Selection\n",
    "    rf = RandomForestClassifier(n_estimators=200, random_state=42)\n",
    "    rf.fit(X, y)\n",
    "    selector = SelectFromModel(rf, prefit=True, threshold='median')\n",
    "    X_selected = selector.transform(X)\n",
    "    \n",
    "    # PCA\n",
    "    pca = PCA(n_components=10)\n",
    "    X_pca = pca.fit_transform(X)\n",
    "    \n",
    "    # Evaluate with Stratified K-Fold\n",
    "    skf = StratifiedKFold(n_splits=5, shuffle=True, random_state=42)\n",
    "    \n",
    "    # Feature Selection Performance\n",
    "    score_selected = cross_val_score(rf, X_selected, y, cv=skf, scoring='accuracy').mean()\n",
    "    # PCA Performance\n",
    "    score_pca = cross_val_score(rf, X_pca, y, cv=skf, scoring='accuracy').mean()\n",
    "    \n",
    "    print(f\"Feature Selection Accuracy: {score_selected:.3f}\")\n",
    "    print(f\"PCA Accuracy: {score_pca:.3f}\")\n",
    "    return X_selected if score_selected > score_pca else X_pca\n",
    "\n",
    "# Usage:\n",
    "X_processed = compare_feature_methods(X_normalized_df, y)"
   ]
  },
  {
   "cell_type": "code",
   "execution_count": 16,
   "id": "cfa0afab",
   "metadata": {},
   "outputs": [
    {
     "name": "stderr",
     "output_type": "stream",
     "text": [
      "[I 2025-06-12 12:16:26,370] A new study created in memory with name: no-name-6807d6f4-eee6-40d8-9f92-297be6024d7c\n",
      "[I 2025-06-12 12:16:29,845] Trial 0 finished with value: 0.7736907730673317 and parameters: {'learning_rate': 0.01580395117195678, 'n_estimators': 932, 'max_depth': 6, 'subsample': 0.772540766323407, 'colsample_bytree': 0.8617101190949236, 'reg_alpha': 0.484292279166604, 'reg_lambda': 1.3100383549428283}. Best is trial 0 with value: 0.7736907730673317.\n",
      "[I 2025-06-12 12:16:32,010] Trial 1 finished with value: 0.7552369077306734 and parameters: {'learning_rate': 0.14716045682180967, 'n_estimators': 684, 'max_depth': 6, 'subsample': 0.9491426428396559, 'colsample_bytree': 0.82235844424759, 'reg_alpha': 0.23485961004030487, 'reg_lambda': 2.6570265427662902}. Best is trial 0 with value: 0.7736907730673317.\n",
      "[I 2025-06-12 12:16:35,192] Trial 2 finished with value: 0.756359102244389 and parameters: {'learning_rate': 0.09038517948392515, 'n_estimators': 689, 'max_depth': 7, 'subsample': 0.9627708969293833, 'colsample_bytree': 0.7279108193959043, 'reg_alpha': 1.9619441265685476, 'reg_lambda': 2.9644416651300376}. Best is trial 0 with value: 0.7736907730673317.\n",
      "[I 2025-06-12 12:16:37,633] Trial 3 finished with value: 0.7603491271820448 and parameters: {'learning_rate': 0.13977437600163942, 'n_estimators': 369, 'max_depth': 9, 'subsample': 0.9025573103117613, 'colsample_bytree': 0.7808707767365721, 'reg_alpha': 1.221339313268656, 'reg_lambda': 1.187948606606379}. Best is trial 0 with value: 0.7736907730673317.\n",
      "[I 2025-06-12 12:16:40,737] Trial 4 finished with value: 0.754364089775561 and parameters: {'learning_rate': 0.10278758338528267, 'n_estimators': 835, 'max_depth': 6, 'subsample': 0.7363484408395212, 'colsample_bytree': 0.9010362874693136, 'reg_alpha': 0.5301182747979793, 'reg_lambda': 1.673239596542894}. Best is trial 0 with value: 0.7736907730673317.\n",
      "[I 2025-06-12 12:16:42,774] Trial 5 finished with value: 0.7538653366583541 and parameters: {'learning_rate': 0.13494222946622353, 'n_estimators': 472, 'max_depth': 7, 'subsample': 0.7983474892807768, 'colsample_bytree': 0.8277702562738857, 'reg_alpha': 0.7467225526156522, 'reg_lambda': 1.1231721074741423}. Best is trial 0 with value: 0.7736907730673317.\n",
      "[I 2025-06-12 12:16:43,450] Trial 6 finished with value: 0.7598503740648379 and parameters: {'learning_rate': 0.18998509397612423, 'n_estimators': 239, 'max_depth': 5, 'subsample': 0.8457275162963162, 'colsample_bytree': 0.9788786936528422, 'reg_alpha': 0.7476230315977506, 'reg_lambda': 1.8465001066413267}. Best is trial 0 with value: 0.7736907730673317.\n",
      "[I 2025-06-12 12:16:44,591] Trial 7 finished with value: 0.7602244389027432 and parameters: {'learning_rate': 0.14238994932356697, 'n_estimators': 161, 'max_depth': 10, 'subsample': 0.7577474144222002, 'colsample_bytree': 0.893096524710723, 'reg_alpha': 0.12696960330129414, 'reg_lambda': 1.2889010010409903}. Best is trial 0 with value: 0.7736907730673317.\n",
      "[I 2025-06-12 12:16:46,751] Trial 8 finished with value: 0.7753117206982545 and parameters: {'learning_rate': 0.022096974132643513, 'n_estimators': 830, 'max_depth': 5, 'subsample': 0.8042985725833289, 'colsample_bytree': 0.7766019440303678, 'reg_alpha': 0.7855639655714652, 'reg_lambda': 1.2804112027137478}. Best is trial 8 with value: 0.7753117206982545.\n",
      "[I 2025-06-12 12:16:47,083] Trial 9 finished with value: 0.7704488778054863 and parameters: {'learning_rate': 0.1892855122525233, 'n_estimators': 213, 'max_depth': 3, 'subsample': 0.8762094852295169, 'colsample_bytree': 0.7403648735153036, 'reg_alpha': 0.5990628086153422, 'reg_lambda': 2.022732020135132}. Best is trial 8 with value: 0.7753117206982545.\n",
      "[I 2025-06-12 12:16:48,414] Trial 10 finished with value: 0.7741895261845386 and parameters: {'learning_rate': 0.019520114186860414, 'n_estimators': 974, 'max_depth': 3, 'subsample': 0.7010489860225041, 'colsample_bytree': 0.704323392890329, 'reg_alpha': 1.272336034276774, 'reg_lambda': 2.254756596095061}. Best is trial 8 with value: 0.7753117206982545.\n",
      "[I 2025-06-12 12:16:49,662] Trial 11 finished with value: 0.7761845386533667 and parameters: {'learning_rate': 0.01595968701150465, 'n_estimators': 952, 'max_depth': 3, 'subsample': 0.7059389861375994, 'colsample_bytree': 0.7104489914989146, 'reg_alpha': 1.3064251393663773, 'reg_lambda': 2.3109517652745852}. Best is trial 11 with value: 0.7761845386533667.\n",
      "[I 2025-06-12 12:16:51,026] Trial 12 finished with value: 0.7687032418952617 and parameters: {'learning_rate': 0.05626613490877202, 'n_estimators': 778, 'max_depth': 4, 'subsample': 0.8211739270783086, 'colsample_bytree': 0.7703927590702375, 'reg_alpha': 1.6007343650141777, 'reg_lambda': 2.397126200225664}. Best is trial 11 with value: 0.7761845386533667.\n",
      "[I 2025-06-12 12:16:52,876] Trial 13 finished with value: 0.7665835411471322 and parameters: {'learning_rate': 0.048096890575553074, 'n_estimators': 997, 'max_depth': 4, 'subsample': 0.7060636887314569, 'colsample_bytree': 0.7720656699014046, 'reg_alpha': 1.0941209030086139, 'reg_lambda': 1.5633380073117276}. Best is trial 11 with value: 0.7761845386533667.\n",
      "[I 2025-06-12 12:16:53,994] Trial 14 finished with value: 0.7708229426433916 and parameters: {'learning_rate': 0.05720342731290158, 'n_estimators': 598, 'max_depth': 4, 'subsample': 0.7934978644679268, 'colsample_bytree': 0.7053801248611178, 'reg_alpha': 1.4939365966532896, 'reg_lambda': 2.251476811717625}. Best is trial 11 with value: 0.7761845386533667.\n",
      "[I 2025-06-12 12:16:56,051] Trial 15 finished with value: 0.7700748129675811 and parameters: {'learning_rate': 0.03632263808521195, 'n_estimators': 832, 'max_depth': 5, 'subsample': 0.9135333366307246, 'colsample_bytree': 0.7997358654132778, 'reg_alpha': 0.9591078860693742, 'reg_lambda': 2.5970117116378653}. Best is trial 11 with value: 0.7761845386533667.\n",
      "[I 2025-06-12 12:16:57,353] Trial 16 finished with value: 0.7680798004987531 and parameters: {'learning_rate': 0.0701067889329038, 'n_estimators': 879, 'max_depth': 3, 'subsample': 0.7436990552374501, 'colsample_bytree': 0.7476841757635638, 'reg_alpha': 1.6108776805508556, 'reg_lambda': 1.9785775167136583}. Best is trial 11 with value: 0.7761845386533667.\n",
      "[I 2025-06-12 12:17:02,437] Trial 17 finished with value: 0.7759351620947632 and parameters: {'learning_rate': 0.011314085568323404, 'n_estimators': 729, 'max_depth': 8, 'subsample': 0.8357645322320404, 'colsample_bytree': 0.9700971858743472, 'reg_alpha': 1.945295952597248, 'reg_lambda': 1.5798459614248945}. Best is trial 11 with value: 0.7761845386533667.\n",
      "[I 2025-06-12 12:17:07,455] Trial 18 finished with value: 0.758354114713217 and parameters: {'learning_rate': 0.07984753031112785, 'n_estimators': 711, 'max_depth': 8, 'subsample': 0.9942736964004653, 'colsample_bytree': 0.9909451425021604, 'reg_alpha': 1.9908209870680635, 'reg_lambda': 1.5826622580173009}. Best is trial 11 with value: 0.7761845386533667.\n",
      "[I 2025-06-12 12:17:12,018] Trial 19 finished with value: 0.7664588528678303 and parameters: {'learning_rate': 0.03605555735444098, 'n_estimators': 547, 'max_depth': 8, 'subsample': 0.8503146232413741, 'colsample_bytree': 0.9506107136011904, 'reg_alpha': 1.7868612959832793, 'reg_lambda': 1.7755140124159148}. Best is trial 11 with value: 0.7761845386533667.\n",
      "[I 2025-06-12 12:17:20,543] Trial 20 finished with value: 0.7655860349127181 and parameters: {'learning_rate': 0.03803528234336373, 'n_estimators': 590, 'max_depth': 10, 'subsample': 0.8309938364890816, 'colsample_bytree': 0.9222005621162225, 'reg_alpha': 1.378924896712547, 'reg_lambda': 2.1277072717270142}. Best is trial 11 with value: 0.7761845386533667.\n",
      "[I 2025-06-12 12:17:26,439] Trial 21 finished with value: 0.769576059850374 and parameters: {'learning_rate': 0.016142256644155695, 'n_estimators': 764, 'max_depth': 8, 'subsample': 0.8784857937825419, 'colsample_bytree': 0.8655682544553208, 'reg_alpha': 0.996466544150041, 'reg_lambda': 1.4460220394833756}. Best is trial 11 with value: 0.7761845386533667.\n",
      "[I 2025-06-12 12:17:31,777] Trial 22 finished with value: 0.7713216957605986 and parameters: {'learning_rate': 0.026566693190920823, 'n_estimators': 891, 'max_depth': 5, 'subsample': 0.7878035163499484, 'colsample_bytree': 0.8104714893250162, 'reg_alpha': 1.764988384103916, 'reg_lambda': 1.3494164550912}. Best is trial 11 with value: 0.7761845386533667.\n"
     ]
    },
    {
     "name": "stderr",
     "output_type": "stream",
     "text": [
      "[I 2025-06-12 12:17:37,573] Trial 23 finished with value: 0.7744389027431422 and parameters: {'learning_rate': 0.015174397878196211, 'n_estimators': 783, 'max_depth': 7, 'subsample': 0.814849721129986, 'colsample_bytree': 0.9463363595105887, 'reg_alpha': 0.8598408682286475, 'reg_lambda': 1.004695766003913}. Best is trial 11 with value: 0.7761845386533667.\n",
      "[I 2025-06-12 12:17:39,610] Trial 24 finished with value: 0.7766832917705736 and parameters: {'learning_rate': 0.011130169482497171, 'n_estimators': 926, 'max_depth': 4, 'subsample': 0.8607695271379922, 'colsample_bytree': 0.8416367080024787, 'reg_alpha': 0.33670949449600385, 'reg_lambda': 1.8391192248387842}. Best is trial 24 with value: 0.7766832917705736.\n",
      "[I 2025-06-12 12:17:45,309] Trial 25 finished with value: 0.7608478802992519 and parameters: {'learning_rate': 0.048268647659011024, 'n_estimators': 911, 'max_depth': 9, 'subsample': 0.8638046187558387, 'colsample_bytree': 0.8443650245932055, 'reg_alpha': 0.3683320479698182, 'reg_lambda': 1.9008174324987661}. Best is trial 24 with value: 0.7766832917705736.\n",
      "[I 2025-06-12 12:17:46,992] Trial 26 finished with value: 0.7768079800498754 and parameters: {'learning_rate': 0.010308662981348873, 'n_estimators': 997, 'max_depth': 4, 'subsample': 0.9129779112142801, 'colsample_bytree': 0.8856605712267678, 'reg_alpha': 0.04862000942711453, 'reg_lambda': 2.4986529637141643}. Best is trial 26 with value: 0.7768079800498754.\n",
      "[I 2025-06-12 12:17:49,003] Trial 27 finished with value: 0.7660847880299251 and parameters: {'learning_rate': 0.06791206184469906, 'n_estimators': 990, 'max_depth': 4, 'subsample': 0.9136290146783107, 'colsample_bytree': 0.8857622900598621, 'reg_alpha': 0.025943698825521614, 'reg_lambda': 2.562679690978745}. Best is trial 26 with value: 0.7768079800498754.\n",
      "[I 2025-06-12 12:17:50,390] Trial 28 finished with value: 0.7735660847880299 and parameters: {'learning_rate': 0.033317840334075574, 'n_estimators': 942, 'max_depth': 3, 'subsample': 0.9537983414619248, 'colsample_bytree': 0.8389919146481667, 'reg_alpha': 0.27616398345342896, 'reg_lambda': 2.837877102042025}. Best is trial 26 with value: 0.7768079800498754.\n",
      "[I 2025-06-12 12:17:52,293] Trial 29 finished with value: 0.75785536159601 and parameters: {'learning_rate': 0.11688588445472287, 'n_estimators': 921, 'max_depth': 4, 'subsample': 0.8909579886103944, 'colsample_bytree': 0.8696530245502497, 'reg_alpha': 0.003356041442950708, 'reg_lambda': 2.42890071992517}. Best is trial 26 with value: 0.7768079800498754.\n",
      "[I 2025-06-12 12:17:53,544] Trial 30 finished with value: 0.774064837905237 and parameters: {'learning_rate': 0.04664470786673582, 'n_estimators': 865, 'max_depth': 3, 'subsample': 0.9310068498692444, 'colsample_bytree': 0.9219828977660565, 'reg_alpha': 0.42160237121524247, 'reg_lambda': 2.1657201773681822}. Best is trial 26 with value: 0.7768079800498754.\n",
      "[I 2025-06-12 12:17:55,559] Trial 31 finished with value: 0.7765586034912719 and parameters: {'learning_rate': 0.010398274966619474, 'n_estimators': 941, 'max_depth': 4, 'subsample': 0.773314871223963, 'colsample_bytree': 0.9526818086783448, 'reg_alpha': 0.18696280442016144, 'reg_lambda': 2.3773632511293274}. Best is trial 26 with value: 0.7768079800498754.\n",
      "[I 2025-06-12 12:17:57,400] Trial 32 finished with value: 0.7771820448877806 and parameters: {'learning_rate': 0.010076230551302036, 'n_estimators': 946, 'max_depth': 4, 'subsample': 0.7272455929999962, 'colsample_bytree': 0.9271835939623235, 'reg_alpha': 0.200306985347699, 'reg_lambda': 2.39036752253541}. Best is trial 32 with value: 0.7771820448877806.\n",
      "[I 2025-06-12 12:17:59,836] Trial 33 finished with value: 0.7473815461346633 and parameters: {'learning_rate': 0.1711296785255496, 'n_estimators': 949, 'max_depth': 5, 'subsample': 0.7753503044436757, 'colsample_bytree': 0.9280929339023931, 'reg_alpha': 0.2025659023415579, 'reg_lambda': 2.747635821728309}. Best is trial 32 with value: 0.7771820448877806.\n",
      "[I 2025-06-12 12:18:01,029] Trial 34 finished with value: 0.7778054862842894 and parameters: {'learning_rate': 0.027573738947047267, 'n_estimators': 643, 'max_depth': 4, 'subsample': 0.7287320156492384, 'colsample_bytree': 0.9066680633868202, 'reg_alpha': 0.31244865537037214, 'reg_lambda': 2.4777430232357927}. Best is trial 34 with value: 0.7778054862842894.\n",
      "[I 2025-06-12 12:18:02,344] Trial 35 finished with value: 0.7754364089775561 and parameters: {'learning_rate': 0.028167603339801978, 'n_estimators': 345, 'max_depth': 6, 'subsample': 0.7290482243023012, 'colsample_bytree': 0.904395354054648, 'reg_alpha': 0.3363387984973512, 'reg_lambda': 2.5181233071075786}. Best is trial 34 with value: 0.7778054862842894.\n",
      "[I 2025-06-12 12:18:04,055] Trial 36 finished with value: 0.7600997506234414 and parameters: {'learning_rate': 0.09495292986403528, 'n_estimators': 667, 'max_depth': 5, 'subsample': 0.9764032557245912, 'colsample_bytree': 0.8796016957204973, 'reg_alpha': 0.5869777912654072, 'reg_lambda': 2.7007631191279704}. Best is trial 34 with value: 0.7778054862842894.\n",
      "[I 2025-06-12 12:18:05,371] Trial 37 finished with value: 0.7725685785536159 and parameters: {'learning_rate': 0.027126260203929026, 'n_estimators': 390, 'max_depth': 6, 'subsample': 0.9319011736182542, 'colsample_bytree': 0.8554115899328422, 'reg_alpha': 0.4547692072069389, 'reg_lambda': 2.853443843479807}. Best is trial 34 with value: 0.7778054862842894.\n",
      "[I 2025-06-12 12:18:06,631] Trial 38 finished with value: 0.7726932668329177 and parameters: {'learning_rate': 0.04032715644918709, 'n_estimators': 624, 'max_depth': 4, 'subsample': 0.7189727070523844, 'colsample_bytree': 0.9076257922594689, 'reg_alpha': 0.14821976886013605, 'reg_lambda': 2.1151436856736083}. Best is trial 34 with value: 0.7778054862842894.\n",
      "[I 2025-06-12 12:18:08,180] Trial 39 finished with value: 0.7587281795511223 and parameters: {'learning_rate': 0.11087946854541868, 'n_estimators': 468, 'max_depth': 6, 'subsample': 0.7534554551067973, 'colsample_bytree': 0.8223329573679197, 'reg_alpha': 0.09756057026322762, 'reg_lambda': 1.7516924597526895}. Best is trial 34 with value: 0.7778054862842894.\n",
      "[I 2025-06-12 12:18:09,981] Trial 40 finished with value: 0.7763092269326684 and parameters: {'learning_rate': 0.025752155908185623, 'n_estimators': 829, 'max_depth': 4, 'subsample': 0.8587502646170495, 'colsample_bytree': 0.9389240857908545, 'reg_alpha': 0.3006390272151762, 'reg_lambda': 2.905875639520896}. Best is trial 34 with value: 0.7778054862842894.\n",
      "[I 2025-06-12 12:18:11,595] Trial 41 finished with value: 0.7765586034912719 and parameters: {'learning_rate': 0.011615687570271167, 'n_estimators': 872, 'max_depth': 4, 'subsample': 0.7603356688373123, 'colsample_bytree': 0.9637111447418361, 'reg_alpha': 0.20902817413566602, 'reg_lambda': 2.436743784412681}. Best is trial 34 with value: 0.7778054862842894.\n",
      "[I 2025-06-12 12:18:14,445] Trial 42 finished with value: 0.7698254364089776 and parameters: {'learning_rate': 0.02190944403191296, 'n_estimators': 992, 'max_depth': 5, 'subsample': 0.7243401589706077, 'colsample_bytree': 0.9094620837804078, 'reg_alpha': 0.5164562179031988, 'reg_lambda': 2.316328846596042}. Best is trial 34 with value: 0.7778054862842894.\n",
      "[I 2025-06-12 12:18:16,168] Trial 43 finished with value: 0.7764339152119701 and parameters: {'learning_rate': 0.010568025783733205, 'n_estimators': 925, 'max_depth': 4, 'subsample': 0.7675221513166178, 'colsample_bytree': 0.8932840668493822, 'reg_alpha': 0.673308453354503, 'reg_lambda': 2.499944482726722}. Best is trial 34 with value: 0.7778054862842894.\n",
      "[I 2025-06-12 12:18:17,126] Trial 44 finished with value: 0.7608478802992519 and parameters: {'learning_rate': 0.12934439673756248, 'n_estimators': 774, 'max_depth': 3, 'subsample': 0.7438510727851817, 'colsample_bytree': 0.87485722518914, 'reg_alpha': 0.07870570529737556, 'reg_lambda': 2.640839362549907}. Best is trial 34 with value: 0.7778054862842894.\n",
      "[I 2025-06-12 12:18:18,734] Trial 45 finished with value: 0.7511221945137156 and parameters: {'learning_rate': 0.15530622877605185, 'n_estimators': 823, 'max_depth': 4, 'subsample': 0.7828040603743855, 'colsample_bytree': 0.9547284961001512, 'reg_alpha': 0.20179799807051554, 'reg_lambda': 2.352078049864749}. Best is trial 34 with value: 0.7778054862842894.\n"
     ]
    },
    {
     "name": "stderr",
     "output_type": "stream",
     "text": [
      "[I 2025-06-12 12:18:21,295] Trial 46 finished with value: 0.7736907730673317 and parameters: {'learning_rate': 0.0210420565391901, 'n_estimators': 947, 'max_depth': 5, 'subsample': 0.7181676903699905, 'colsample_bytree': 0.935159741795586, 'reg_alpha': 0.279984587450374, 'reg_lambda': 2.192405761310431}. Best is trial 34 with value: 0.7778054862842894.\n",
      "[I 2025-06-12 12:18:21,565] Trial 47 finished with value: 0.7765586034912719 and parameters: {'learning_rate': 0.055749596801289124, 'n_estimators': 129, 'max_depth': 3, 'subsample': 0.8937461625751641, 'colsample_bytree': 0.9934307698073657, 'reg_alpha': 0.4168483477016566, 'reg_lambda': 2.753644968448551}. Best is trial 34 with value: 0.7778054862842894.\n",
      "[I 2025-06-12 12:18:22,950] Trial 48 finished with value: 0.774064837905237 and parameters: {'learning_rate': 0.030900189037862916, 'n_estimators': 513, 'max_depth': 5, 'subsample': 0.7435666605243575, 'colsample_bytree': 0.8580864006726125, 'reg_alpha': 0.14266935349260568, 'reg_lambda': 2.076312975510823}. Best is trial 34 with value: 0.7778054862842894.\n",
      "[I 2025-06-12 12:18:24,114] Trial 49 finished with value: 0.772069825436409 and parameters: {'learning_rate': 0.045077305304950764, 'n_estimators': 662, 'max_depth': 4, 'subsample': 0.81727886236622, 'colsample_bytree': 0.9138611656337979, 'reg_alpha': 0.6415223671898427, 'reg_lambda': 1.9788923620441798}. Best is trial 34 with value: 0.7778054862842894.\n"
     ]
    },
    {
     "name": "stdout",
     "output_type": "stream",
     "text": [
      "Best accuracy: 0.7778054862842894\n"
     ]
    }
   ],
   "source": [
    "import optuna\n",
    "from xgboost import XGBClassifier\n",
    "\n",
    "def optimize_hyperparams(X, y):\n",
    "    def objective(trial):\n",
    "        params = {\n",
    "            'learning_rate': trial.suggest_float('learning_rate', 0.01, 0.2),\n",
    "            'n_estimators': trial.suggest_int('n_estimators', 100, 1000),\n",
    "            'max_depth': trial.suggest_int('max_depth', 3, 10),\n",
    "            'subsample': trial.suggest_float('subsample', 0.7, 1.0),\n",
    "            'colsample_bytree': trial.suggest_float('colsample_bytree', 0.7, 1.0),\n",
    "            'reg_alpha': trial.suggest_float('reg_alpha', 0, 2),\n",
    "            'reg_lambda': trial.suggest_float('reg_lambda', 1, 3)\n",
    "        }\n",
    "        model = XGBClassifier(**params, random_state=42, eval_metric='logloss')\n",
    "        score = cross_val_score(model, X, y, cv=StratifiedKFold(5), scoring='accuracy').mean()\n",
    "        return score\n",
    "\n",
    "    study = optuna.create_study(direction='maximize')\n",
    "    study.optimize(objective, n_trials=50)\n",
    "    print(\"Best accuracy:\", study.best_value)\n",
    "    return study.best_params\n",
    "\n",
    "# Usage:\n",
    "best_params = optimize_hyperparams(X_processed, y)\n"
   ]
  },
  {
   "cell_type": "code",
   "execution_count": 17,
   "id": "2b167990",
   "metadata": {},
   "outputs": [],
   "source": [
    "from sklearn.model_selection import train_test_split\n",
    "\n",
    "X_train, X_test, y_train, y_test = train_test_split(\n",
    "    X, y, test_size=0.2, random_state=42, stratify=y\n",
    ")"
   ]
  },
  {
   "cell_type": "code",
   "execution_count": 18,
   "id": "b191595d",
   "metadata": {},
   "outputs": [
    {
     "data": {
      "text/html": [
       "<style>#sk-container-id-1 {color: black;background-color: white;}#sk-container-id-1 pre{padding: 0;}#sk-container-id-1 div.sk-toggleable {background-color: white;}#sk-container-id-1 label.sk-toggleable__label {cursor: pointer;display: block;width: 100%;margin-bottom: 0;padding: 0.3em;box-sizing: border-box;text-align: center;}#sk-container-id-1 label.sk-toggleable__label-arrow:before {content: \"▸\";float: left;margin-right: 0.25em;color: #696969;}#sk-container-id-1 label.sk-toggleable__label-arrow:hover:before {color: black;}#sk-container-id-1 div.sk-estimator:hover label.sk-toggleable__label-arrow:before {color: black;}#sk-container-id-1 div.sk-toggleable__content {max-height: 0;max-width: 0;overflow: hidden;text-align: left;background-color: #f0f8ff;}#sk-container-id-1 div.sk-toggleable__content pre {margin: 0.2em;color: black;border-radius: 0.25em;background-color: #f0f8ff;}#sk-container-id-1 input.sk-toggleable__control:checked~div.sk-toggleable__content {max-height: 200px;max-width: 100%;overflow: auto;}#sk-container-id-1 input.sk-toggleable__control:checked~label.sk-toggleable__label-arrow:before {content: \"▾\";}#sk-container-id-1 div.sk-estimator input.sk-toggleable__control:checked~label.sk-toggleable__label {background-color: #d4ebff;}#sk-container-id-1 div.sk-label input.sk-toggleable__control:checked~label.sk-toggleable__label {background-color: #d4ebff;}#sk-container-id-1 input.sk-hidden--visually {border: 0;clip: rect(1px 1px 1px 1px);clip: rect(1px, 1px, 1px, 1px);height: 1px;margin: -1px;overflow: hidden;padding: 0;position: absolute;width: 1px;}#sk-container-id-1 div.sk-estimator {font-family: monospace;background-color: #f0f8ff;border: 1px dotted black;border-radius: 0.25em;box-sizing: border-box;margin-bottom: 0.5em;}#sk-container-id-1 div.sk-estimator:hover {background-color: #d4ebff;}#sk-container-id-1 div.sk-parallel-item::after {content: \"\";width: 100%;border-bottom: 1px solid gray;flex-grow: 1;}#sk-container-id-1 div.sk-label:hover label.sk-toggleable__label {background-color: #d4ebff;}#sk-container-id-1 div.sk-serial::before {content: \"\";position: absolute;border-left: 1px solid gray;box-sizing: border-box;top: 0;bottom: 0;left: 50%;z-index: 0;}#sk-container-id-1 div.sk-serial {display: flex;flex-direction: column;align-items: center;background-color: white;padding-right: 0.2em;padding-left: 0.2em;position: relative;}#sk-container-id-1 div.sk-item {position: relative;z-index: 1;}#sk-container-id-1 div.sk-parallel {display: flex;align-items: stretch;justify-content: center;background-color: white;position: relative;}#sk-container-id-1 div.sk-item::before, #sk-container-id-1 div.sk-parallel-item::before {content: \"\";position: absolute;border-left: 1px solid gray;box-sizing: border-box;top: 0;bottom: 0;left: 50%;z-index: -1;}#sk-container-id-1 div.sk-parallel-item {display: flex;flex-direction: column;z-index: 1;position: relative;background-color: white;}#sk-container-id-1 div.sk-parallel-item:first-child::after {align-self: flex-end;width: 50%;}#sk-container-id-1 div.sk-parallel-item:last-child::after {align-self: flex-start;width: 50%;}#sk-container-id-1 div.sk-parallel-item:only-child::after {width: 0;}#sk-container-id-1 div.sk-dashed-wrapped {border: 1px dashed gray;margin: 0 0.4em 0.5em 0.4em;box-sizing: border-box;padding-bottom: 0.4em;background-color: white;}#sk-container-id-1 div.sk-label label {font-family: monospace;font-weight: bold;display: inline-block;line-height: 1.2em;}#sk-container-id-1 div.sk-label-container {text-align: center;}#sk-container-id-1 div.sk-container {/* jupyter's `normalize.less` sets `[hidden] { display: none; }` but bootstrap.min.css set `[hidden] { display: none !important; }` so we also need the `!important` here to be able to override the default hidden behavior on the sphinx rendered scikit-learn.org. See: https://github.com/scikit-learn/scikit-learn/issues/21755 */display: inline-block !important;position: relative;}#sk-container-id-1 div.sk-text-repr-fallback {display: none;}</style><div id=\"sk-container-id-1\" class=\"sk-top-container\"><div class=\"sk-text-repr-fallback\"><pre>RandomForestClassifier(n_estimators=200, random_state=42)</pre><b>In a Jupyter environment, please rerun this cell to show the HTML representation or trust the notebook. <br />On GitHub, the HTML representation is unable to render, please try loading this page with nbviewer.org.</b></div><div class=\"sk-container\" hidden><div class=\"sk-item\"><div class=\"sk-estimator sk-toggleable\"><input class=\"sk-toggleable__control sk-hidden--visually\" id=\"sk-estimator-id-1\" type=\"checkbox\" checked><label for=\"sk-estimator-id-1\" class=\"sk-toggleable__label sk-toggleable__label-arrow\">RandomForestClassifier</label><div class=\"sk-toggleable__content\"><pre>RandomForestClassifier(n_estimators=200, random_state=42)</pre></div></div></div></div></div>"
      ],
      "text/plain": [
       "RandomForestClassifier(n_estimators=200, random_state=42)"
      ]
     },
     "execution_count": 18,
     "metadata": {},
     "output_type": "execute_result"
    }
   ],
   "source": [
    "from sklearn.ensemble import RandomForestClassifier\n",
    "\n",
    "model = RandomForestClassifier(n_estimators=200, random_state=42)\n",
    "model.fit(X_train, y_train)"
   ]
  },
  {
   "cell_type": "code",
   "execution_count": null,
   "id": "0e9fbcbd",
   "metadata": {},
   "outputs": [
    {
     "name": "stdout",
     "output_type": "stream",
     "text": [
      "              precision    recall  f1-score   support\n",
      "\n",
      "           0       0.75      0.71      0.73       745\n",
      "           1       0.76      0.80      0.78       859\n",
      "\n",
      "    accuracy                           0.76      1604\n",
      "   macro avg       0.76      0.75      0.75      1604\n",
      "weighted avg       0.76      0.76      0.75      1604\n",
      "\n",
      "AUC: 0.8426264346711878\n"
     ]
    }
   ],
   "source": [
    "from sklearn.metrics import classification_report, roc_auc_score\n",
    "\n",
    "y_pred = model.predict(X_test)\n",
    "y_proba = model.predict_proba(X_test)[:, 1]\n",
    "\n",
    "print(classification_report(y_test, y_pred))\n",
    "print(\"AUC:\", roc_auc_score(y_test, y_proba))"
   ]
  },
  {
   "cell_type": "code",
   "execution_count": null,
   "id": "7a80a5db",
   "metadata": {},
   "outputs": [
    {
     "data": {
      "image/png": "[encoded data removed]",
      "text/plain": [
       "<Figure size 1000x600 with 1 Axes>"
      ]
     },
     "metadata": {},
     "output_type": "display_data"
    }
   ],
   "source": [
    "import matplotlib.pyplot as plt\n",
    "import numpy as np\n",
    "importances = model.feature_importances_\n",
    "indices = np.argsort(importances)[::-1]\n",
    "feature_names = X.columns\n",
    "\n",
    "plt.figure(figsize=(10,6))\n",
    "plt.title(\"Feature Importances\")\n",
    "plt.bar(range(X.shape[1]), importances[indices], align=\"center\")\n",
    "plt.xticks(range(X.shape[1]), feature_names[indices], rotation=90)\n",
    "plt.tight_layout()\n",
    "plt.show()"
   ]
  },
  {
   "cell_type": "code",
   "execution_count": 22,
   "id": "48947ff2",
   "metadata": {},
   "outputs": [
    {
     "name": "stdout",
     "output_type": "stream",
     "text": [
      "              precision    recall  f1-score   support\n",
      "\n",
      "           0       0.83      0.79      0.81      3726\n",
      "           1       0.83      0.86      0.84      4294\n",
      "\n",
      "    accuracy                           0.83      8020\n",
      "   macro avg       0.83      0.83      0.83      8020\n",
      "weighted avg       0.83      0.83      0.83      8020\n",
      "\n"
     ]
    }
   ],
   "source": [
    "# Train with best parameters\n",
    "final_model = XGBClassifier(**best_params, random_state=42)\n",
    "final_model.fit(X_processed, y)\n",
    "\n",
    "# Evaluate\n",
    "y_pred = final_model.predict(X_processed)\n",
    "print(classification_report(y, y_pred))"
   ]
  },
  {
   "cell_type": "code",
   "execution_count": 24,
   "id": "243457a4",
   "metadata": {},
   "outputs": [
    {
     "name": "stdout",
     "output_type": "stream",
     "text": [
      "AUC: 0.8426264346711878\n"
     ]
    }
   ],
   "source": [
    "print(\"AUC:\", roc_auc_score(y_test, y_proba))"
   ]
  },
  {
   "cell_type": "code",
   "execution_count": null,
   "id": "7c83ca93",
   "metadata": {},
   "outputs": [
    {
     "data": {
      "text/plain": [
       "['scaler.joblib']"
      ]
     },
     "execution_count": 25,
     "metadata": {},
     "output_type": "execute_result"
    }
   ],
   "source": [
    "# Save the model\n",
    "import joblib\n",
    "joblib.dump(final_model, 'final_xgb_model.joblib')\n",
    "\n",
    "# Saveing the scaler\n",
    "# joblib.dump(scaler, 'scaler.joblib')"
   ]
  },
  {
   "cell_type": "markdown",
   "id": "4c170b6c",
   "metadata": {},
   "source": [
    "# MODEL USAGE FOR LATER USE"
   ]
  },
  {
   "cell_type": "code",
   "execution_count": null,
   "id": "56424b80",
   "metadata": {},
   "outputs": [],
   "source": [
    "# import joblib\n",
    "# joblib.dump(model, 'my_model.joblib')\n",
    "# import joblib\n",
    "\n",
    "# # Load the saved model\n",
    "# loaded_model = joblib.load('my_model.joblib')\n",
    "# predictions = loaded_model.predict(X_new)"
   ]
  },
  {
   "cell_type": "code",
   "execution_count": null,
   "id": "f00a6224",
   "metadata": {},
   "outputs": [],
   "source": [
    "# joblib.dump(scaler, 'scaler.joblib')\n",
    "# scaler = joblib.load('scaler.joblib')\n",
    "# X_new_scaled = scaler.transform(X_new)\n",
    "# predictions = loaded_model.predict(X_new_scaled)"
   ]
  },
  {
   "cell_type": "code",
   "execution_count": null,
   "id": "3acc26d8",
   "metadata": {},
   "outputs": [],
   "source": []
  }
 ],
 "metadata": {
  "kernelspec": {
   "display_name": "Python 3 (ipykernel)",
   "language": "python",
   "name": "python3"
  },
  "language_info": {
   "codemirror_mode": {
    "name": "ipython",
    "version": 3
   },
   "file_extension": ".py",
   "mimetype": "text/x-python",
   "name": "python",
   "nbconvert_exporter": "python",
   "pygments_lexer": "ipython3",
   "version": "3.11.3"
  }
 },
 "nbformat": 4,
 "nbformat_minor": 5
}
